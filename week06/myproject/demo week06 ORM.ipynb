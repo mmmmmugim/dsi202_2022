{
 "cells": [
  {
   "cell_type": "code",
   "execution_count": 1,
   "id": "bc508d8a",
   "metadata": {},
   "outputs": [],
   "source": [
    "import os\n",
    "import django\n",
    "os.environ.setdefault('DJANGO_SETTINGS_MODULE', 'rest.settings')\n",
    "os.environ[\"DJANGO_ALLOW_ASYNC_UNSAFE\"] = \"true\"\n",
    "django.setup()"
   ]
  },
  {
   "cell_type": "code",
   "execution_count": 2,
   "id": "13425d1c",
   "metadata": {},
   "outputs": [
    {
     "data": {
      "text/plain": [
       "<QuerySet [<Car: 1 Mitsubishi L200>, <Car: 2 Mini Cooper>, <Car: 3 TVR Tuscan>, <Car: 4 BMW Z3>, <Car: 5 Toyota Cella>]>"
      ]
     },
     "execution_count": 2,
     "metadata": {},
     "output_type": "execute_result"
    }
   ],
   "source": [
    "Car.objects.all()"
   ]
  },
  {
   "cell_type": "code",
   "execution_count": 3,
   "id": "27643022",
   "metadata": {},
   "outputs": [
    {
     "name": "stdout",
     "output_type": "stream",
     "text": [
      "1 Mitsubishi L200\n",
      "2 Mini Cooper\n",
      "3 TVR Tuscan\n",
      "4 BMW Z3\n",
      "5 Toyota Cella\n"
     ]
    }
   ],
   "source": [
    "for i in Car.objects.all():\n",
    "    print(i)"
   ]
  },
  {
   "cell_type": "code",
   "execution_count": 4,
   "id": "a9aee238",
   "metadata": {},
   "outputs": [
    {
     "data": {
      "text/html": [
       "<div>\n",
       "<style scoped>\n",
       "    .dataframe tbody tr th:only-of-type {\n",
       "        vertical-align: middle;\n",
       "    }\n",
       "\n",
       "    .dataframe tbody tr th {\n",
       "        vertical-align: top;\n",
       "    }\n",
       "\n",
       "    .dataframe thead th {\n",
       "        text-align: right;\n",
       "    }\n",
       "</style>\n",
       "<table border=\"1\" class=\"dataframe\">\n",
       "  <thead>\n",
       "    <tr style=\"text-align: right;\">\n",
       "      <th></th>\n",
       "      <th>id</th>\n",
       "      <th>maker</th>\n",
       "      <th>model</th>\n",
       "      <th>price</th>\n",
       "      <th>color</th>\n",
       "      <th>date</th>\n",
       "    </tr>\n",
       "  </thead>\n",
       "  <tbody>\n",
       "    <tr>\n",
       "      <th>0</th>\n",
       "      <td>1</td>\n",
       "      <td>Mitsubishi</td>\n",
       "      <td>L200</td>\n",
       "      <td>4500000.00</td>\n",
       "      <td>Purple</td>\n",
       "      <td>2022-01-20</td>\n",
       "    </tr>\n",
       "    <tr>\n",
       "      <th>1</th>\n",
       "      <td>2</td>\n",
       "      <td>Mini</td>\n",
       "      <td>Cooper</td>\n",
       "      <td>4000000.00</td>\n",
       "      <td>Red</td>\n",
       "      <td>2022-01-20</td>\n",
       "    </tr>\n",
       "    <tr>\n",
       "      <th>2</th>\n",
       "      <td>3</td>\n",
       "      <td>TVR</td>\n",
       "      <td>Tuscan</td>\n",
       "      <td>15000000.00</td>\n",
       "      <td>Yellow</td>\n",
       "      <td>2022-01-20</td>\n",
       "    </tr>\n",
       "    <tr>\n",
       "      <th>3</th>\n",
       "      <td>4</td>\n",
       "      <td>BMW</td>\n",
       "      <td>Z3</td>\n",
       "      <td>10000000.00</td>\n",
       "      <td>Red</td>\n",
       "      <td>2022-01-20</td>\n",
       "    </tr>\n",
       "    <tr>\n",
       "      <th>4</th>\n",
       "      <td>5</td>\n",
       "      <td>Toyota</td>\n",
       "      <td>Cella</td>\n",
       "      <td>5000000.00</td>\n",
       "      <td>Black</td>\n",
       "      <td>2022-01-20</td>\n",
       "    </tr>\n",
       "  </tbody>\n",
       "</table>\n",
       "</div>"
      ],
      "text/plain": [
       "   id       maker   model        price   color        date\n",
       "0   1  Mitsubishi    L200   4500000.00  Purple  2022-01-20\n",
       "1   2        Mini  Cooper   4000000.00     Red  2022-01-20\n",
       "2   3         TVR  Tuscan  15000000.00  Yellow  2022-01-20\n",
       "3   4         BMW      Z3  10000000.00     Red  2022-01-20\n",
       "4   5      Toyota   Cella   5000000.00   Black  2022-01-20"
      ]
     },
     "execution_count": 4,
     "metadata": {},
     "output_type": "execute_result"
    }
   ],
   "source": [
    "import pandas as pd\n",
    "df = pd.DataFrame(list(Car.objects.all().values()))\n",
    "df"
   ]
  },
  {
   "cell_type": "code",
   "execution_count": 5,
   "id": "bbddc8c2",
   "metadata": {},
   "outputs": [
    {
     "data": {
      "text/html": [
       "<div>\n",
       "<style scoped>\n",
       "    .dataframe tbody tr th:only-of-type {\n",
       "        vertical-align: middle;\n",
       "    }\n",
       "\n",
       "    .dataframe tbody tr th {\n",
       "        vertical-align: top;\n",
       "    }\n",
       "\n",
       "    .dataframe thead th {\n",
       "        text-align: right;\n",
       "    }\n",
       "</style>\n",
       "<table border=\"1\" class=\"dataframe\">\n",
       "  <thead>\n",
       "    <tr style=\"text-align: right;\">\n",
       "      <th></th>\n",
       "      <th>id</th>\n",
       "      <th>name</th>\n",
       "      <th>address</th>\n",
       "      <th>postcode</th>\n",
       "      <th>email</th>\n",
       "      <th>phone</th>\n",
       "    </tr>\n",
       "  </thead>\n",
       "  <tbody>\n",
       "    <tr>\n",
       "      <th>0</th>\n",
       "      <td>1</td>\n",
       "      <td>Wasit</td>\n",
       "      <td>Pathum thani</td>\n",
       "      <td>12120</td>\n",
       "      <td>wasit@tu.ac.th</td>\n",
       "      <td>0876543210</td>\n",
       "    </tr>\n",
       "    <tr>\n",
       "      <th>1</th>\n",
       "      <td>2</td>\n",
       "      <td>Einstein</td>\n",
       "      <td>Pathum Thani</td>\n",
       "      <td>12120</td>\n",
       "      <td>einstein@tu.ac.th</td>\n",
       "      <td>0876543211</td>\n",
       "    </tr>\n",
       "    <tr>\n",
       "      <th>2</th>\n",
       "      <td>3</td>\n",
       "      <td>David</td>\n",
       "      <td>Bankok</td>\n",
       "      <td>10100</td>\n",
       "      <td>david@email.com</td>\n",
       "      <td>0987654321</td>\n",
       "    </tr>\n",
       "  </tbody>\n",
       "</table>\n",
       "</div>"
      ],
      "text/plain": [
       "   id      name       address postcode              email       phone\n",
       "0   1     Wasit  Pathum thani    12120     wasit@tu.ac.th  0876543210\n",
       "1   2  Einstein  Pathum Thani    12120  einstein@tu.ac.th  0876543211\n",
       "2   3     David        Bankok    10100    david@email.com  0987654321"
      ]
     },
     "execution_count": 5,
     "metadata": {},
     "output_type": "execute_result"
    }
   ],
   "source": [
    "pd.DataFrame(list(Client.objects.all().values()))"
   ]
  },
  {
   "cell_type": "code",
   "execution_count": 6,
   "id": "742dd72e",
   "metadata": {},
   "outputs": [
    {
     "data": {
      "text/html": [
       "<div>\n",
       "<style scoped>\n",
       "    .dataframe tbody tr th:only-of-type {\n",
       "        vertical-align: middle;\n",
       "    }\n",
       "\n",
       "    .dataframe tbody tr th {\n",
       "        vertical-align: top;\n",
       "    }\n",
       "\n",
       "    .dataframe thead th {\n",
       "        text-align: right;\n",
       "    }\n",
       "</style>\n",
       "<table border=\"1\" class=\"dataframe\">\n",
       "  <thead>\n",
       "    <tr style=\"text-align: right;\">\n",
       "      <th></th>\n",
       "      <th>id</th>\n",
       "      <th>car_id</th>\n",
       "      <th>client_id</th>\n",
       "      <th>rent_date</th>\n",
       "      <th>return_date</th>\n",
       "      <th>cost</th>\n",
       "    </tr>\n",
       "  </thead>\n",
       "  <tbody>\n",
       "    <tr>\n",
       "      <th>0</th>\n",
       "      <td>1</td>\n",
       "      <td>1</td>\n",
       "      <td>1</td>\n",
       "      <td>2022-01-20</td>\n",
       "      <td>2022-01-20</td>\n",
       "      <td>200.00</td>\n",
       "    </tr>\n",
       "    <tr>\n",
       "      <th>1</th>\n",
       "      <td>2</td>\n",
       "      <td>3</td>\n",
       "      <td>2</td>\n",
       "      <td>2022-01-20</td>\n",
       "      <td>2022-01-21</td>\n",
       "      <td>500.00</td>\n",
       "    </tr>\n",
       "    <tr>\n",
       "      <th>2</th>\n",
       "      <td>3</td>\n",
       "      <td>5</td>\n",
       "      <td>1</td>\n",
       "      <td>2022-02-17</td>\n",
       "      <td>2022-02-17</td>\n",
       "      <td>600.00</td>\n",
       "    </tr>\n",
       "    <tr>\n",
       "      <th>3</th>\n",
       "      <td>4</td>\n",
       "      <td>2</td>\n",
       "      <td>1</td>\n",
       "      <td>2022-02-17</td>\n",
       "      <td>2022-02-17</td>\n",
       "      <td>500.00</td>\n",
       "    </tr>\n",
       "  </tbody>\n",
       "</table>\n",
       "</div>"
      ],
      "text/plain": [
       "   id  car_id  client_id   rent_date return_date    cost\n",
       "0   1       1          1  2022-01-20  2022-01-20  200.00\n",
       "1   2       3          2  2022-01-20  2022-01-21  500.00\n",
       "2   3       5          1  2022-02-17  2022-02-17  600.00\n",
       "3   4       2          1  2022-02-17  2022-02-17  500.00"
      ]
     },
     "execution_count": 6,
     "metadata": {},
     "output_type": "execute_result"
    }
   ],
   "source": [
    "pd.DataFrame(list(Rent.objects.all().values()))"
   ]
  },
  {
   "cell_type": "code",
   "execution_count": 7,
   "id": "29a802a5",
   "metadata": {},
   "outputs": [
    {
     "data": {
      "text/html": [
       "<div>\n",
       "<style scoped>\n",
       "    .dataframe tbody tr th:only-of-type {\n",
       "        vertical-align: middle;\n",
       "    }\n",
       "\n",
       "    .dataframe tbody tr th {\n",
       "        vertical-align: top;\n",
       "    }\n",
       "\n",
       "    .dataframe thead th {\n",
       "        text-align: right;\n",
       "    }\n",
       "</style>\n",
       "<table border=\"1\" class=\"dataframe\">\n",
       "  <thead>\n",
       "    <tr style=\"text-align: right;\">\n",
       "      <th></th>\n",
       "      <th>id</th>\n",
       "      <th>car_id</th>\n",
       "      <th>client_id</th>\n",
       "      <th>rent_date</th>\n",
       "      <th>return_date</th>\n",
       "      <th>cost</th>\n",
       "    </tr>\n",
       "  </thead>\n",
       "  <tbody>\n",
       "    <tr>\n",
       "      <th>0</th>\n",
       "      <td>2</td>\n",
       "      <td>3</td>\n",
       "      <td>2</td>\n",
       "      <td>2022-01-20</td>\n",
       "      <td>2022-01-21</td>\n",
       "      <td>500.00</td>\n",
       "    </tr>\n",
       "  </tbody>\n",
       "</table>\n",
       "</div>"
      ],
      "text/plain": [
       "   id  car_id  client_id   rent_date return_date    cost\n",
       "0   2       3          2  2022-01-20  2022-01-21  500.00"
      ]
     },
     "execution_count": 7,
     "metadata": {},
     "output_type": "execute_result"
    }
   ],
   "source": [
    "#q1 มีการเช่าครั้งไหนบ้างที่ราคารถมากกว่าหรือเท่ากับ 5ล้าน\n",
    "pd.DataFrame(list( Rent.objects.filter(car__price__gt=5000000).values() ))"
   ]
  },
  {
   "cell_type": "code",
   "execution_count": 8,
   "id": "34814cc9",
   "metadata": {},
   "outputs": [
    {
     "data": {
      "text/html": [
       "<div>\n",
       "<style scoped>\n",
       "    .dataframe tbody tr th:only-of-type {\n",
       "        vertical-align: middle;\n",
       "    }\n",
       "\n",
       "    .dataframe tbody tr th {\n",
       "        vertical-align: top;\n",
       "    }\n",
       "\n",
       "    .dataframe thead th {\n",
       "        text-align: right;\n",
       "    }\n",
       "</style>\n",
       "<table border=\"1\" class=\"dataframe\">\n",
       "  <thead>\n",
       "    <tr style=\"text-align: right;\">\n",
       "      <th></th>\n",
       "      <th>id</th>\n",
       "      <th>name</th>\n",
       "      <th>address</th>\n",
       "      <th>postcode</th>\n",
       "      <th>email</th>\n",
       "      <th>phone</th>\n",
       "    </tr>\n",
       "  </thead>\n",
       "  <tbody>\n",
       "    <tr>\n",
       "      <th>0</th>\n",
       "      <td>2</td>\n",
       "      <td>Einstein</td>\n",
       "      <td>Pathum Thani</td>\n",
       "      <td>12120</td>\n",
       "      <td>einstein@tu.ac.th</td>\n",
       "      <td>0876543211</td>\n",
       "    </tr>\n",
       "  </tbody>\n",
       "</table>\n",
       "</div>"
      ],
      "text/plain": [
       "   id      name       address postcode              email       phone\n",
       "0   2  Einstein  Pathum Thani    12120  einstein@tu.ac.th  0876543211"
      ]
     },
     "execution_count": 8,
     "metadata": {},
     "output_type": "execute_result"
    }
   ],
   "source": [
    "#q2 มีลูกค้าคนไหนบ้างที่เช่ารถ โดยรถนั้นราคามากกว่าหรือเท่ากับ 5ล้าน?\n",
    "query_set=Client.objects.filter(rent__car__price__gt=5000000).values()\n",
    "pd.DataFrame(list(query_set))"
   ]
  },
  {
   "cell_type": "code",
   "execution_count": 9,
   "id": "60dfa7c8",
   "metadata": {},
   "outputs": [
    {
     "name": "stdout",
     "output_type": "stream",
     "text": [
      "SELECT \"myapp_client\".\"id\", \"myapp_client\".\"name\", \"myapp_client\".\"address\", \"myapp_client\".\"postcode\", \"myapp_client\".\"email\", \"myapp_client\".\"phone\" FROM \"myapp_client\" INNER JOIN \"myapp_rent\" ON (\"myapp_client\".\"id\" = \"myapp_rent\".\"client_id\") INNER JOIN \"myapp_car\" ON (\"myapp_rent\".\"car_id\" = \"myapp_car\".\"id\") WHERE \"myapp_car\".\"price\" > 5000000\n"
     ]
    }
   ],
   "source": [
    "print(Client.objects.filter(rent__car__price__gt=5000000).values().query)"
   ]
  },
  {
   "cell_type": "code",
   "execution_count": 10,
   "id": "1b7c5d1a",
   "metadata": {},
   "outputs": [],
   "source": [
    "#q3 มีรถคันไหนบ้างที่ยืมโดย wasit และรถราคาน้อยกว่า 5ล้าน\n"
   ]
  },
  {
   "cell_type": "code",
   "execution_count": null,
   "id": "ce504a6f",
   "metadata": {},
   "outputs": [],
   "source": []
  }
 ],
 "metadata": {
  "kernelspec": {
   "display_name": "Django Shell-Plus",
   "language": "python",
   "name": "django_extensions"
  },
  "language_info": {
   "codemirror_mode": {
    "name": "ipython",
    "version": 3
   },
   "file_extension": ".py",
   "mimetype": "text/x-python",
   "name": "python",
   "nbconvert_exporter": "python",
   "pygments_lexer": "ipython3",
   "version": "3.8.12"
  }
 },
 "nbformat": 4,
 "nbformat_minor": 5
}
